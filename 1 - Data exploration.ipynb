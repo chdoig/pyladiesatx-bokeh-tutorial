{
 "cells": [
  {
   "cell_type": "markdown",
   "metadata": {},
   "source": [
    "<img src=images/pyladiesatx.jpeg align=\"left\" width=\"15%\" style=\"margin-right:15%\"></div>\n",
    "\n"
   ]
  },
  {
   "cell_type": "markdown",
   "metadata": {},
   "source": [
    "<h1 align='center'>PyLadiesATX - Bokeh tutorial</h1>"
   ]
  },
  {
   "cell_type": "markdown",
   "metadata": {},
   "source": [
    "## 1 - Data exploration"
   ]
  },
  {
   "cell_type": "markdown",
   "metadata": {},
   "source": [
    "**Exercise: Explore the data you are given for this tutorial:**\n",
    "\n",
    "- Countries shapes (data/World_Countries_boundaries.csv.gz)\n",
    "- Information on indicators (data/indicators(.html/.csv/.json/.md))\n",
    "- Indicators by country and year (in data/(csv/json) folders)\n",
    "- Iso3-Iso2  (data/examples/map_export/data/iso3-to-iso2.csv)\n",
    "- Population (data/population.csv)\n",
    "\n",
    "Tip: Useful commands\n",
    "\n",
    "```python\n",
    "import pandas as pd\n",
    "pd.DataFrame()\n",
    "pd.read_csv()\n",
    "pd.read_json()\n",
    "```"
   ]
  },
  {
   "cell_type": "code",
   "execution_count": 1,
   "metadata": {
    "collapsed": true
   },
   "outputs": [],
   "source": [
    "# You are given a script (world_countries) that generates the shapes of countries"
   ]
  },
  {
   "cell_type": "code",
   "execution_count": 2,
   "metadata": {
    "collapsed": false
   },
   "outputs": [],
   "source": [
    "import world_countries as wc\n",
    "\n",
    "world_countries = wc.data.copy()"
   ]
  },
  {
   "cell_type": "markdown",
   "metadata": {
    "collapsed": true
   },
   "source": [
    " **Exercise: Select some indicators that you are interested in. **"
   ]
  }
 ],
 "metadata": {
  "kernelspec": {
   "display_name": "Python 2",
   "language": "python",
   "name": "python2"
  },
  "language_info": {
   "codemirror_mode": {
    "name": "ipython",
    "version": 2
   },
   "file_extension": ".py",
   "mimetype": "text/x-python",
   "name": "python",
   "nbconvert_exporter": "python",
   "pygments_lexer": "ipython2",
   "version": "2.7.10"
  }
 },
 "nbformat": 4,
 "nbformat_minor": 0
}
